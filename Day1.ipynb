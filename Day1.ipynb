{
  "nbformat": 4,
  "nbformat_minor": 0,
  "metadata": {
    "colab": {
      "provenance": [],
      "authorship_tag": "ABX9TyOTtNI7ZxgwKy1rjL5o7g7Q",
      "include_colab_link": true
    },
    "kernelspec": {
      "name": "python3",
      "display_name": "Python 3"
    },
    "language_info": {
      "name": "python"
    }
  },
  "cells": [
    {
      "cell_type": "markdown",
      "metadata": {
        "id": "view-in-github",
        "colab_type": "text"
      },
      "source": [
        "<a href=\"https://colab.research.google.com/github/SiumNobo/CSS-MYSITE/blob/main/Day1.ipynb\" target=\"_parent\"><img src=\"https://colab.research.google.com/assets/colab-badge.svg\" alt=\"Open In Colab\"/></a>"
      ]
    },
    {
      "cell_type": "code",
      "execution_count": null,
      "metadata": {
        "colab": {
          "base_uri": "https://localhost:8080/"
        },
        "id": "Fq1V4zvckEbH",
        "outputId": "d5c8d054-1ef5-47c3-b293-1f07c41172c6"
      },
      "outputs": [
        {
          "output_type": "stream",
          "name": "stdout",
          "text": [
            "10\n"
          ]
        }
      ],
      "source": [
        "var1=10;\n",
        "print(var1)\n"
      ]
    },
    {
      "cell_type": "markdown",
      "source": [
        "python formated string"
      ],
      "metadata": {
        "id": "Zt6BhPyt6nRg"
      }
    },
    {
      "cell_type": "code",
      "source": [
        "val1,val2=10,20\n",
        "st1=\"val 1={} and val2={}\".format(val1,val2)\n",
        "print()\n",
        "print(\"Value 1={1} and value 2={0}\".format(val1,val2))\n",
        "print(\"value 1={key1} and value 2={key2}\".format(key1=val1,key2=val2))\n",
        "\n",
        "f1=2.26\n",
        "print(\"formated value:(:08.5f)\".format(f1))\n",
        "print(\"formated value:(key:08.5f)\".format(key=f1))\n"
      ],
      "metadata": {
        "colab": {
          "base_uri": "https://localhost:8080/"
        },
        "id": "MM-SJXtZ6hRm",
        "outputId": "0ea9debb-e8b6-4034-9f59-b77972e5b297"
      },
      "execution_count": null,
      "outputs": [
        {
          "output_type": "stream",
          "name": "stdout",
          "text": [
            "\n",
            "Value 1=20 and value 2=10\n",
            "value 1=10 and value 2=20\n",
            "formated value:(:08.5f)\n",
            "formated value:(key:08.5f)\n"
          ]
        }
      ]
    },
    {
      "cell_type": "markdown",
      "source": [
        "Python input"
      ],
      "metadata": {
        "id": "HxPe8Wtp-CLq"
      }
    },
    {
      "cell_type": "code",
      "source": [
        "num1=int(input(\"enter your number?\"))\n",
        "num2=int(input(\"enter your number?\"))\n",
        "\n",
        "sum=num1+num2;\n",
        "print(float(sum))"
      ],
      "metadata": {
        "colab": {
          "base_uri": "https://localhost:8080/"
        },
        "id": "5qgIOA28-BrT",
        "outputId": "ee55fdba-c0a5-490a-b50e-f0c12251b9ae"
      },
      "execution_count": null,
      "outputs": [
        {
          "output_type": "stream",
          "name": "stdout",
          "text": [
            "enter your number?10\n",
            "enter your number?20\n",
            "30.0\n"
          ]
        }
      ]
    },
    {
      "cell_type": "markdown",
      "source": [
        "Multiline String"
      ],
      "metadata": {
        "id": "CwwmrtOwgcF-"
      }
    },
    {
      "cell_type": "code",
      "source": [
        "str1='single quoted string'\n",
        "str2=\"double quoted string\"\n",
        "str3='''multi-line\n",
        "string\n",
        "with tab'''\n",
        "print(str1)\n",
        "print(str2)\n",
        "print(str3)"
      ],
      "metadata": {
        "id": "v9SOabvYeyjZ",
        "colab": {
          "base_uri": "https://localhost:8080/"
        },
        "outputId": "19b30f79-cee9-40f6-cf7d-f40d6d98b670"
      },
      "execution_count": null,
      "outputs": [
        {
          "output_type": "stream",
          "name": "stdout",
          "text": [
            "single quoted string\n",
            "double quoted string\n",
            "multi-line\n",
            "string \n",
            "with tab\n"
          ]
        }
      ]
    },
    {
      "cell_type": "markdown",
      "source": [
        "Last output and boolean variable"
      ],
      "metadata": {
        "id": "GksZw589gXUQ"
      }
    },
    {
      "cell_type": "code",
      "source": [
        "print(0==0)\n",
        "print(0==1)\n",
        "print(True)\n"
      ],
      "metadata": {
        "colab": {
          "base_uri": "https://localhost:8080/"
        },
        "id": "nzRNSx8lj8IM",
        "outputId": "d002f7b4-9e99-4536-9133-de48c9434f0a"
      },
      "execution_count": null,
      "outputs": [
        {
          "output_type": "stream",
          "name": "stdout",
          "text": [
            "True\n",
            "False\n",
            "True\n"
          ]
        }
      ]
    },
    {
      "cell_type": "markdown",
      "source": [
        "some other type conversion"
      ],
      "metadata": {
        "id": "YjvEOaIJ1oPT"
      }
    },
    {
      "cell_type": "code",
      "source": [
        "num1=10\n",
        "num2=15.5\n",
        "print(num1+num2)\n",
        "\n",
        "#explicite type coversion\n",
        "num1=10\n",
        "str1=\"123\"\n",
        "print(num1+int(str1))\n",
        "print(str(num1)+str1)\n"
      ],
      "metadata": {
        "colab": {
          "base_uri": "https://localhost:8080/"
        },
        "id": "y7q5FJkbwHNl",
        "outputId": "580ce7b3-d63e-40e2-c6db-af0f07db1e0e"
      },
      "execution_count": 12,
      "outputs": [
        {
          "output_type": "stream",
          "name": "stdout",
          "text": [
            "25.5\n",
            "133\n",
            "10123\n"
          ]
        }
      ]
    },
    {
      "cell_type": "markdown",
      "source": [
        "Module code"
      ],
      "metadata": {
        "id": "Bah1Itzf2q-M"
      }
    },
    {
      "cell_type": "code",
      "source": [
        "import math\n",
        "print(math.pi)\n",
        "print(math.sqrt(16))\n",
        "\n",
        "from math import * #try to avoid this practice\n",
        "print(pi)\n",
        "from math import pi\n",
        "print(pi)\n",
        "import math as m\n",
        "print(m.pi)\n",
        "\n",
        "from math import pi as p\n",
        "print(p)\n"
      ],
      "metadata": {
        "colab": {
          "base_uri": "https://localhost:8080/"
        },
        "id": "kJPmKPVa24Re",
        "outputId": "cf3dd04a-eddb-4b7d-d011-3c4f28c79616"
      },
      "execution_count": 13,
      "outputs": [
        {
          "output_type": "stream",
          "name": "stdout",
          "text": [
            "3.141592653589793\n",
            "4.0\n",
            "3.141592653589793\n",
            "3.141592653589793\n",
            "3.141592653589793\n",
            "3.141592653589793\n"
          ]
        }
      ]
    },
    {
      "cell_type": "markdown",
      "source": [
        "#input file from a drive"
      ],
      "metadata": {
        "id": "qe53p1NDvwYR"
      }
    },
    {
      "cell_type": "code",
      "source": [
        "from google.colab import drive\n",
        "drive.mount(\"\")"
      ],
      "metadata": {
        "id": "BLbfIw8Rvp8s"
      },
      "execution_count": null,
      "outputs": []
    }
  ]
}